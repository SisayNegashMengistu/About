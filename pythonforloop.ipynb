{
  "nbformat": 4,
  "nbformat_minor": 0,
  "metadata": {
    "colab": {
      "provenance": [],
      "authorship_tag": "ABX9TyPQrBR892DgkOHtGLOngE2h",
      "include_colab_link": true
    },
    "kernelspec": {
      "name": "python3",
      "display_name": "Python 3"
    },
    "language_info": {
      "name": "python"
    }
  },
  "cells": [
    {
      "cell_type": "markdown",
      "metadata": {
        "id": "view-in-github",
        "colab_type": "text"
      },
      "source": [
        "<a href=\"https://colab.research.google.com/github/SisayNegashMengistu/About/blob/main/pythonforloop.ipynb\" target=\"_parent\"><img src=\"https://colab.research.google.com/assets/colab-badge.svg\" alt=\"Open In Colab\"/></a>"
      ]
    },
    {
      "cell_type": "code",
      "execution_count": 1,
      "metadata": {
        "colab": {
          "base_uri": "https://localhost:8080/"
        },
        "id": "IP8MQ8NAjaBw",
        "outputId": "73ea0c55-b5a4-4983-da0b-490317dd524d"
      },
      "outputs": [
        {
          "output_type": "stream",
          "name": "stdout",
          "text": [
            "Swift\n",
            "Python\n",
            "Go\n",
            "JavaScript\n"
          ]
        }
      ],
      "source": [
        "languages = ['Swift', 'Python', 'Go', 'JavaScript']\n",
        "\n",
        "# run a loop for each item of the list\n",
        "for language in languages:\n",
        "    print(language)"
      ]
    },
    {
      "cell_type": "code",
      "source": [
        "for mamasew in \"mamasew \":\n",
        "  print(mamasew)\n",
        " #for loop for ranges\n",
        "values =range(7)\n",
        "for x in values:\n",
        "  print(x)\n"
      ],
      "metadata": {
        "colab": {
          "base_uri": "https://localhost:8080/"
        },
        "id": "YyeIrbc9kYf1",
        "outputId": "dfe0ec89-8972-4131-e78a-d7e4a2d08708"
      },
      "execution_count": 6,
      "outputs": [
        {
          "output_type": "stream",
          "name": "stdout",
          "text": [
            "m\n",
            "a\n",
            "m\n",
            "a\n",
            "s\n",
            "e\n",
            "w\n",
            " \n",
            "0\n",
            "1\n",
            "2\n",
            "3\n",
            "4\n",
            "5\n",
            "6\n"
          ]
        }
      ]
    },
    {
      "cell_type": "code",
      "source": [
        "languages = ['Swift', 'Python', 'Go']\n",
        "\n",
        "for _ in languages:\n",
        "    print('Hello')\n",
        "    print('Hi')"
      ],
      "metadata": {
        "colab": {
          "base_uri": "https://localhost:8080/"
        },
        "id": "SXXVBbJDlcqn",
        "outputId": "c46e2be1-8d37-474f-ff96-817fbffd85e1"
      },
      "execution_count": 7,
      "outputs": [
        {
          "output_type": "stream",
          "name": "stdout",
          "text": [
            "Hello\n",
            "Hi\n",
            "Hello\n",
            "Hi\n",
            "Hello\n",
            "Hi\n"
          ]
        }
      ]
    }
  ]
}